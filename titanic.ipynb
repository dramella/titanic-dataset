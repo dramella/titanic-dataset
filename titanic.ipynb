{
 "cells": [
  {
   "cell_type": "markdown",
   "metadata": {
    "_uuid": "2ae0e0b4c6bff4ae512709f712f8d085ca4b2d75"
   },
   "source": [
    "# Data Exploration & Cleaning\n",
    "\n",
    "This notebook is divided into:\n",
    "* **Data Exploration** \n",
    "  * Descriptive Statistics\n",
    "  * Missing Values\n",
    "  * Outliers\n",
    "* **Data Cleaning**\n",
    "  * Features\n",
    "  * Imputation for missing data\n",
    "  * Handling of outliers\n",
    "* **Data Analysis**\n",
    "  * Standardisation\n",
    "  * Cross - Validation\n",
    "  * Training\n",
    "  * Results submission"
   ]
  },
  {
   "cell_type": "markdown",
   "metadata": {
    "_uuid": "b4c31b13b4832578ad57882757c126a09a1a2ef7"
   },
   "source": [
    "#### Packages "
   ]
  },
  {
   "cell_type": "code",
   "execution_count": 7,
   "metadata": {
    "_uuid": "c704b5faf97bad987cee8dfbc69b8aadca85b063"
   },
   "outputs": [],
   "source": [
    "import os\n",
    "import pandas as pd\n",
    "import seaborn as sns\n"
   ]
  },
  {
   "cell_type": "markdown",
   "metadata": {
    "_uuid": "1e2f2b243ead8b9d520b252c5dd2ba5300969b6e"
   },
   "source": [
    "#### Loading the dataset "
   ]
  },
  {
   "cell_type": "code",
   "execution_count": null,
   "metadata": {
    "_uuid": "9248bab0e5f1b58372fc1b116557e0f9f76fe6ca"
   },
   "outputs": [],
   "source": [
    "path='/Users/xxx/Desktop'\n",
    "df_train = pd.read_csv(os.path.join(path,'train.csv'), header=0, index_col='PassengerId')\n",
    "df_test = pd.read_csv(os.path.join(path,'test.csv'), header=0, index_col='PassengerId')\n",
    "df = pd.concat([df_train, df_test], keys=['train', 'test'], sort=False)"
   ]
  },
  {
   "cell_type": "markdown",
   "metadata": {
    "_uuid": "e9534151b480b10ea62df91ba3d89d78accccf89"
   },
   "source": [
    "## Data Exploration "
   ]
  },
  {
   "cell_type": "markdown",
   "metadata": {
    "_uuid": "7470c425247c5e512964cb834a9d9c71b98bed8c"
   },
   "source": [
    "### 1) Descriptive Statistics "
   ]
  },
  {
   "cell_type": "code",
   "execution_count": null,
   "metadata": {
    "_uuid": "f81a165f597d36b52f8ad2716ec97aeb2f22fa73"
   },
   "outputs": [],
   "source": [
    "df.head()"
   ]
  },
  {
   "cell_type": "code",
   "execution_count": null,
   "metadata": {
    "_uuid": "f93d4f28bc157a3e64cb9cc5eeef18a43c1d9114"
   },
   "outputs": [],
   "source": [
    "df.describe()"
   ]
  },
  {
   "cell_type": "markdown",
   "metadata": {
    "_uuid": "c42a655b8681dad2713699763ef80e4f8eb84d63"
   },
   "source": [
    "### 2) Missing values"
   ]
  },
  {
   "cell_type": "code",
   "execution_count": null,
   "metadata": {
    "_uuid": "a6742595c45367a263ab0d3f7073ad00835c08e3"
   },
   "outputs": [],
   "source": [
    "df.isnull().sum()"
   ]
  },
  {
   "cell_type": "code",
   "execution_count": 8,
   "metadata": {
    "_uuid": "f7cc0e2656b67d1fa1735c8c4342b3df9723eec3"
   },
   "outputs": [
    {
     "ename": "NameError",
     "evalue": "name 'df' is not defined",
     "output_type": "error",
     "traceback": [
      "\u001b[0;31m---------------------------------------------------------------------------\u001b[0m",
      "\u001b[0;31mNameError\u001b[0m                                 Traceback (most recent call last)",
      "\u001b[0;32m<ipython-input-8-04e09f17b23e>\u001b[0m in \u001b[0;36m<module>\u001b[0;34m()\u001b[0m\n\u001b[0;32m----> 1\u001b[0;31m \u001b[0msns\u001b[0m\u001b[0;34m.\u001b[0m\u001b[0mheatmap\u001b[0m\u001b[0;34m(\u001b[0m\u001b[0mdf\u001b[0m\u001b[0;34m.\u001b[0m\u001b[0misnull\u001b[0m\u001b[0;34m(\u001b[0m\u001b[0;34m)\u001b[0m\u001b[0;34m,\u001b[0m \u001b[0mcbar\u001b[0m\u001b[0;34m=\u001b[0m\u001b[0mFalse\u001b[0m\u001b[0;34m)\u001b[0m\u001b[0;34m\u001b[0m\u001b[0m\n\u001b[0m",
      "\u001b[0;31mNameError\u001b[0m: name 'df' is not defined"
     ]
    }
   ],
   "source": [
    "sns.heatmap(df.isnull(), cbar=False)"
   ]
  },
  {
   "cell_type": "markdown",
   "metadata": {
    "_uuid": "996bfebc76055a9fd533acd0b7d5e464f58578b6"
   },
   "source": [
    "### 3) Outliers"
   ]
  },
  {
   "cell_type": "code",
   "execution_count": null,
   "metadata": {
    "_uuid": "cd9e158a1aef5108ce8df85c9469e806abccc267"
   },
   "outputs": [],
   "source": [
    "sns.boxplot(x=df['Age'])"
   ]
  },
  {
   "cell_type": "code",
   "execution_count": null,
   "metadata": {
    "_uuid": "6d1d2386601c7f1b6c91f2059ab95c4c55611e25"
   },
   "outputs": [],
   "source": [
    "sns.boxplot(x=df['SibSp'])"
   ]
  },
  {
   "cell_type": "code",
   "execution_count": null,
   "metadata": {
    "_uuid": "0f13b91c1e10c844473c4a289b3c874701f0adcb"
   },
   "outputs": [],
   "source": [
    "sns.boxplot(x=df['Parch'])"
   ]
  },
  {
   "cell_type": "code",
   "execution_count": null,
   "metadata": {
    "_uuid": "f4ea7ced37d28ddce20f6e9e6b2039c20342af0e"
   },
   "outputs": [],
   "source": [
    "sns.boxplot(x=df['Fare'])"
   ]
  },
  {
   "cell_type": "markdown",
   "metadata": {
    "_uuid": "d6a896cfe06bfbf62823a3a429f105fc4b7f15d2"
   },
   "source": [
    "## Data Cleaning "
   ]
  },
  {
   "cell_type": "markdown",
   "metadata": {
    "_uuid": "b21d7a3d8f7770bde826d0bf3ccfad6e3d29314b"
   },
   "source": [
    "### Dropping features and creating new ones \n",
    "*  Two new features are created: *Title*, which is derived from the *Name* feature, and *Family*, which summarize the information contained in the *Sibsp* and *Parch* features.\n",
    "*  The feature *Cabin* is dropped, because it has too many missing values.\n",
    "*  The features *Name*, *Sibsp* and *Parch* are dropped since they are now redundant.\n",
    "\n"
   ]
  },
  {
   "cell_type": "code",
   "execution_count": null,
   "metadata": {
    "_uuid": "d20cd7c46043d36e7ee2dafa3167933dc97582d5"
   },
   "outputs": [],
   "source": [
    "df['Title'] = df['Name'].apply(lambda name: name[name.index(',') + 2 : name.index('.')])\n",
    "df['FamilySize'] = (df['SibSp'] + df['Parch'] + 1)"
   ]
  },
  {
   "cell_type": "code",
   "execution_count": null,
   "metadata": {
    "_uuid": "c115a2745af2fe4ac6a674eecaf1f6d2aced4501"
   },
   "outputs": [],
   "source": [
    "df.FamilySize= df.FamilySize.astype(float)\n",
    "df.Pclass = df.Pclass.astype(float)"
   ]
  },
  {
   "cell_type": "code",
   "execution_count": null,
   "metadata": {
    "_uuid": "a2c16a64353075851bd685f9048b41ac61a3e29b"
   },
   "outputs": [],
   "source": [
    "print(df.Title.value_counts())"
   ]
  },
  {
   "cell_type": "code",
   "execution_count": null,
   "metadata": {
    "_uuid": "1f42900651a0091c2fe5531e55a2868b09469cab"
   },
   "outputs": [],
   "source": [
    "ReducedTitles = {\n",
    "    \"Capt\":       \"Officer\",\n",
    "    \"Col\":        \"Officer\",\n",
    "    \"Major\":      \"Officer\",\n",
    "    \"Jonkheer\":   \"Royalty\",\n",
    "    \"Don\":        \"Sir\",\n",
    "    \"Sir\" :       \"Sir\",\n",
    "    \"Dr\":         \"Officer\",\n",
    "    \"Rev\":        \"Officer\",\n",
    "    \"the Countess\":\"Royalty\",\n",
    "    \"Dona\":       \"Royalty\",\n",
    "    \"Mme\":        \"Mrs\",\n",
    "    \"Mlle\":       \"Miss\",\n",
    "    \"Ms\":         \"Mrs\",\n",
    "    \"Mr\" :        \"Mr\",\n",
    "    \"Mrs\" :       \"Mrs\",\n",
    "    \"Miss\" :      \"Miss\",\n",
    "    \"Master\" :    \"Sir\",\n",
    "    \"Lady\" :      \"Royalty\"\n",
    "}\n",
    "\n",
    "df.Title = df.Title.map(ReducedTitles)\n"
   ]
  },
  {
   "cell_type": "code",
   "execution_count": null,
   "metadata": {
    "_uuid": "e94b0b7f70ef361295f032e8f39be86172844264"
   },
   "outputs": [],
   "source": [
    "print(df.Title.value_counts())"
   ]
  },
  {
   "cell_type": "markdown",
   "metadata": {
    "_uuid": "5ceb3de9b86c54e22c917569f35246ed78d2a8b6"
   },
   "source": [
    "### Outliers\n",
    "\n",
    "All the outliers are kept."
   ]
  },
  {
   "cell_type": "markdown",
   "metadata": {
    "_uuid": "40443889c1780dbbdbf7e7f3f2a72527855b4972"
   },
   "source": [
    "### Missing Values Imputation\n",
    "Once the *Cabin* feature has been dropped, we are left with:\n",
    "* 263 missing values for the *Age* feature\n",
    "* 2 missing values for the *Embarked* feature\n",
    "* 1 missing values for the *Fare* feature\n"
   ]
  },
  {
   "cell_type": "code",
   "execution_count": null,
   "metadata": {
    "_uuid": "acf931d4c2dbbfa81b6f7e6266ebbfd648ce9cf8"
   },
   "outputs": [],
   "source": [
    "df.drop(columns=['Cabin'], inplace=True) #cabin has too many missing"
   ]
  },
  {
   "cell_type": "code",
   "execution_count": null,
   "metadata": {
    "_uuid": "df7e9cef4cec0e018745d75ee241ca0a366e04fc"
   },
   "outputs": [],
   "source": [
    "df.loc['train'].Embarked.mode()"
   ]
  },
  {
   "cell_type": "code",
   "execution_count": null,
   "metadata": {
    "_uuid": "c20907fc6995cd19de6d28efc362eeb53edd9e52"
   },
   "outputs": [],
   "source": [
    "df.Embarked.fillna(\"S\", inplace=True)"
   ]
  },
  {
   "cell_type": "code",
   "execution_count": null,
   "metadata": {
    "_uuid": "c627498247eb24f552f115024c9c0cd10d92f0fe"
   },
   "outputs": [],
   "source": [
    "groupby_Pclass = df.loc['train'].Fare.groupby(df.loc['train'].Pclass)\n",
    "groupby_Pclass.mean()"
   ]
  },
  {
   "cell_type": "code",
   "execution_count": null,
   "metadata": {
    "_uuid": "14ae4c2a4c7ec4c242400b5f6939a0ac1058c19b"
   },
   "outputs": [],
   "source": [
    "df.Fare.fillna(13.302889, inplace=True)"
   ]
  },
  {
   "cell_type": "code",
   "execution_count": null,
   "metadata": {
    "_uuid": "2b3e548d9108e817630b24be174b1c1327a8ac8b"
   },
   "outputs": [],
   "source": [
    "#df['Age'].fillna(df.loc['train'].Age.median(),inplace=True)\n",
    "median_age_by_title = pd.DataFrame(df.groupby('Title')['Age'].median())\n",
    "median_age_by_title.rename(columns = {'Age': 'MedianAgeByTitle'}, inplace=True)\n",
    "df = df.merge(median_age_by_title, left_on='Title', right_index=True)\n",
    "df.Age.fillna(df.MedianAgeByTitle, inplace=True)\n",
    "df.drop(columns=['MedianAgeByTitle'], inplace=True)"
   ]
  },
  {
   "cell_type": "code",
   "execution_count": null,
   "metadata": {
    "_uuid": "76fcfe64d3247c0ed55d38e3b89643fd1b54bec9"
   },
   "outputs": [],
   "source": [
    "df.isnull().sum()"
   ]
  },
  {
   "cell_type": "markdown",
   "metadata": {
    "_uuid": "fcf234ae6028dee89af6dae86f974400ef700ee8"
   },
   "source": [
    "\n",
    "# Data Analysis\n",
    "\n",
    "\n",
    "* **Standardisation** \n",
    "* **Cross - Validation**\n",
    "* **Training**\n",
    "* **Results submission**\n"
   ]
  },
  {
   "cell_type": "markdown",
   "metadata": {
    "_uuid": "1f4a598655fd30bbd7d4efcc711b7dc2ccc5be0b"
   },
   "source": [
    "### Packages"
   ]
  },
  {
   "cell_type": "code",
   "execution_count": null,
   "metadata": {
    "_uuid": "13b39e1674399937e322a6bd039a39e011b45d22"
   },
   "outputs": [],
   "source": [
    "import numpy as np\n",
    "from sklearn_pandas import DataFrameMapper as DFM\n",
    "from sklearn.preprocessing import StandardScaler\n",
    "from sklearn.preprocessing import LabelBinarizer\n",
    "from sklearn.grid_search import GridSearchCV as KCV\n",
    "from sklearn import svm\n"
   ]
  },
  {
   "cell_type": "markdown",
   "metadata": {
    "_uuid": "92ac537ba42a76ad675fdd95452333df0bbe46b6"
   },
   "source": [
    "### Dropping features, dividing train and test"
   ]
  },
  {
   "cell_type": "code",
   "execution_count": null,
   "metadata": {
    "_uuid": "f17bce746ba36a0941885b055ba34a6e092ecd22"
   },
   "outputs": [],
   "source": [
    "df.drop(columns=['Parch', 'SibSp', 'Name','Ticket'], inplace=True)"
   ]
  },
  {
   "cell_type": "code",
   "execution_count": null,
   "metadata": {
    "_uuid": "37a9e4462d7d5d95bd92b46e21cd658b0a8cda79"
   },
   "outputs": [],
   "source": [
    "#separo train e test, dati e target\n",
    "train_df, test_df = df.loc['train'], df.loc['test']"
   ]
  },
  {
   "cell_type": "code",
   "execution_count": null,
   "metadata": {
    "_uuid": "70faebbad31a78dd170f6af90e4a4ec61efc835f"
   },
   "outputs": [],
   "source": [
    "#adjust train set\n",
    "train_predvalues = train_df.pop('Survived')\n",
    "train_data = train_df\n",
    "\n",
    "#adjust test set\n",
    "test_data = test_df.drop(columns=['Survived'])\n",
    "test_IDs = test_df.index.values\n"
   ]
  },
  {
   "cell_type": "markdown",
   "metadata": {
    "_uuid": "b12348dad62ecf7e07b16ec432a40c21c31b2acc"
   },
   "source": [
    "### Standardisation"
   ]
  },
  {
   "cell_type": "code",
   "execution_count": null,
   "metadata": {
    "_uuid": "2984441e0fa496d36aae3c5ee08f79892b03030a"
   },
   "outputs": [],
   "source": [
    "mapper = DFM([(['Age', 'Fare', 'Pclass'], StandardScaler()),\n",
    "              ('Sex'                , LabelBinarizer()), \n",
    "              ('Embarked'           , LabelBinarizer()),\n",
    "              ('Title'              , LabelBinarizer())],\n",
    "             default=None,\n",
    "             df_out=True)\n",
    "\n",
    "train_data = mapper.fit_transform(train_data)\n",
    "test_data = mapper.transform(test_data)"
   ]
  },
  {
   "cell_type": "markdown",
   "metadata": {
    "_uuid": "21e471ceb3da195d0df682e5bdbacf8ee3012a6c"
   },
   "source": [
    "### Cross-Validation and Training"
   ]
  },
  {
   "cell_type": "code",
   "execution_count": null,
   "metadata": {
    "_uuid": "8afc6dfe476670de5ab4ddb966df1c6abfb40931"
   },
   "outputs": [],
   "source": [
    "param_grid = {\n",
    "    'kernel': ['linear', 'rbf', 'sigmoid'],\n",
    "    'C': [0.001, 0.01, 0.1, 1, 10, 100],\n",
    "    'gamma' : [0.001, 0.01, 0.1, 1]\n",
    "}\n",
    "\n",
    "grid_svc = KCV(svm.SVC(), param_grid, cv=10, scoring='accuracy')\n",
    "grid_svc.fit(train_data, train_predvalues)\n",
    "\n",
    "print('Best score: {}'.format(grid_svc.best_score_))\n",
    "print('Best parameters: {}'.format(grid_svc.best_params_))"
   ]
  },
  {
   "cell_type": "code",
   "execution_count": null,
   "metadata": {
    "_uuid": "b85d7b8d6d333a71fa1a3b46f3922f9ad166028f"
   },
   "outputs": [],
   "source": [
    "svc = svm.SVC(**grid_svc.best_params_).fit(train_data, train_predvalues)"
   ]
  },
  {
   "cell_type": "markdown",
   "metadata": {
    "_uuid": "134678f51462f71ec655a6fcfc992e6f392eb74a"
   },
   "source": [
    "### Saving Results "
   ]
  },
  {
   "cell_type": "code",
   "execution_count": null,
   "metadata": {
    "_uuid": "a59b2fb9c512dbf6b7f2e9d11808345ef8341a7b"
   },
   "outputs": [],
   "source": [
    "#prep submission\n",
    "res = pd.DataFrame({'PassengerId': test_IDs,\n",
    "                    'Survived'   : svc.predict(test_data).astype(int)})\n",
    "\n",
    "res.to_csv(os.path.join(path,'predictions.csv'), index=False)\n",
    "\n"
   ]
  }
 ],
 "metadata": {
  "kernelspec": {
   "display_name": "Python 2",
   "language": "python",
   "name": "python2"
  },
  "language_info": {
   "codemirror_mode": {
    "name": "ipython",
    "version": 2
   },
   "file_extension": ".py",
   "mimetype": "text/x-python",
   "name": "python",
   "nbconvert_exporter": "python",
   "pygments_lexer": "ipython2",
   "version": "2.7.15"
  }
 },
 "nbformat": 4,
 "nbformat_minor": 1
}
